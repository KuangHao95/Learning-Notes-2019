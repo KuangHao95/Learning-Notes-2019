{
 "cells": [
  {
   "cell_type": "markdown",
   "metadata": {},
   "source": [
    "# 1. Sorting"
   ]
  },
  {
   "cell_type": "markdown",
   "metadata": {},
   "source": [
    "### 1.1 Selection Sort\n",
    "**Algo:** repeatedly finding the **minimum element** (considering ascending order) from unsorted part and putting it at the beginning.\n",
    "\n",
    "In every iteration of selection sort, the minimum element (considering ascending order) from the unsorted subarray is picked and moved to the sorted subarray.\n",
    "\n",
    "Following example explains the above steps:\n",
    "<pre style=\"background-color:#EBECEE;\">\n",
    "arr[] = 64 25 12 22 11\n",
    "\n",
    "// Find the minimum element in arr[0...4]\n",
    "// and place it at beginning\n",
    "11 25 12 22 64\n",
    "\n",
    "// Find the minimum element in arr[1...4]\n",
    "// and place it at beginning of arr[1...4]\n",
    "11 12 25 22 64\n",
    "\n",
    "// Find the minimum element in arr[2...4]\n",
    "// and place it at beginning of arr[2...4]\n",
    "11 12 22 25 64\n",
    "\n",
    "// Find the minimum element in arr[3...4]\n",
    "// and place it at beginning of arr[3...4]\n",
    "11 12 22 25 64 \n",
    "</pre>"
   ]
  },
  {
   "cell_type": "code",
   "execution_count": 2,
   "metadata": {},
   "outputs": [],
   "source": [
    "import math\n",
    "\n",
    "# Code to print the list \n",
    "def printList(arr): \n",
    "    for i in range(len(arr)):         \n",
    "        print(arr[i],end=\" \") \n",
    "    print()"
   ]
  },
  {
   "cell_type": "code",
   "execution_count": 39,
   "metadata": {},
   "outputs": [
    {
     "name": "stdout",
     "output_type": "stream",
     "text": [
      "Given array is\n",
      "64 25 12 22 11 \n",
      "Sorted array is: \n",
      "11 12 22 25 64 \n"
     ]
    }
   ],
   "source": [
    "# Implementation of Selection Sort \n",
    "def selectionSort(A):\n",
    "    # Traverse through all array elements \n",
    "    for i in range(len(A)): \n",
    "        # Find the minimum element in remaining unsorted array \n",
    "        min_idx = i \n",
    "        for j in range(i+1, len(A)): \n",
    "            if A[min_idx] > A[j]: \n",
    "                min_idx = j \n",
    "\n",
    "        # Swap the found minimum element with the first element         \n",
    "        A[i], A[min_idx] = A[min_idx], A[i]\n",
    "\n",
    "# Driver code to test above \n",
    "arr = [64, 25, 12, 22, 11]  \n",
    "print (\"Given array is\", end=\"\\n\")  \n",
    "printList(arr)\n",
    "selectionSort(arr) \n",
    "print(\"Sorted array is: \", end=\"\\n\") \n",
    "printList(arr)"
   ]
  },
  {
   "cell_type": "markdown",
   "metadata": {},
   "source": [
    "**Time Complexity:** O(n2) as there are two nested loops.<br>\n",
    "**Auxiliary Space:** O(1)<br>\n",
    "The good thing about selection sort is it never makes more than O(n) swaps and can be useful when memory write is a costly operation."
   ]
  },
  {
   "cell_type": "markdown",
   "metadata": {},
   "source": [
    "### 1.2 Bubble Sort\n",
    "**Algo:** repeatedly swapping the adjacent elements if they are in wrong order."
   ]
  },
  {
   "cell_type": "code",
   "execution_count": 40,
   "metadata": {},
   "outputs": [
    {
     "name": "stdout",
     "output_type": "stream",
     "text": [
      "Given array is\n",
      "64 34 25 12 22 11 90 \n",
      "Sorted array is: \n",
      "11 12 22 25 34 64 90 \n"
     ]
    }
   ],
   "source": [
    "# Implementation of Bubble Sort \n",
    "def bubbleSort(arr): \n",
    "    n = len(arr) \n",
    "    # Traverse through all array elements \n",
    "    for i in range(n): \n",
    "  \n",
    "        # Last i elements are already in place \n",
    "        for j in range(0, n-i-1): \n",
    "  \n",
    "            # traverse the array from 0 to n-i-1 \n",
    "            # Swap if the element found is greater than the next element \n",
    "            if arr[j] > arr[j+1] : \n",
    "                arr[j], arr[j+1] = arr[j+1], arr[j] \n",
    "            \n",
    "# Driver code to test above \n",
    "arr = [64, 34, 25, 12, 22, 11, 90] \n",
    "print (\"Given array is\", end=\"\\n\")  \n",
    "printList(arr)\n",
    "bubbleSort(arr) \n",
    "print(\"Sorted array is: \", end=\"\\n\") \n",
    "printList(arr)"
   ]
  },
  {
   "cell_type": "code",
   "execution_count": 50,
   "metadata": {},
   "outputs": [
    {
     "name": "stdout",
     "output_type": "stream",
     "text": [
      "Given array is\n",
      "64 34 25 12 22 11 90 \n",
      "Sorted array is: \n",
      "11 12 22 25 34 64 90 \n"
     ]
    }
   ],
   "source": [
    "# Implementation of optimized Bubble sort  \n",
    "def BetterbubbleSort(arr): \n",
    "    n = len(arr) \n",
    "   \n",
    "    # Traverse through all array elements \n",
    "    for i in range(n): \n",
    "        swapped = False\n",
    "  \n",
    "        # Last i elements are already \n",
    "        #  in place \n",
    "        for j in range(0, n-i-1): \n",
    "   \n",
    "            # traverse the array from 0 to n-i-1. \n",
    "            # Swap if the element found is greater than the next element \n",
    "            if arr[j] > arr[j+1] : \n",
    "                arr[j], arr[j+1] = arr[j+1], arr[j] \n",
    "                swapped = True\n",
    "  \n",
    "        # IF no two elements were swapped by inner loop, then break \n",
    "        if swapped == False: \n",
    "            break\n",
    "            \n",
    "# Driver code to test above \n",
    "arr = [64, 34, 25, 12, 22, 11, 90] \n",
    "print (\"Given array is\", end=\"\\n\")  \n",
    "printList(arr)\n",
    "BetterbubbleSort(arr) \n",
    "print(\"Sorted array is: \", end=\"\\n\") \n",
    "printList(arr)"
   ]
  },
  {
   "cell_type": "markdown",
   "metadata": {},
   "source": [
    "**Illustration:**\n",
    "<img src = \"https://www.geeksforgeeks.org/wp-content/uploads/gq/2014/02/bubble-sort1.png\">"
   ]
  },
  {
   "cell_type": "markdown",
   "metadata": {},
   "source": [
    "**Time Complexity:** O(n*n). Worst case occurs when array is reverse sorted.<br>\n",
    "**Best Case Time Complexity:** O(n). Best case occurs when array is already sorted.<br>\n",
    "**Auxiliary Space:** O(1)<br>\n",
    "**Note:** Always use the modified BubbleSort"
   ]
  },
  {
   "cell_type": "markdown",
   "metadata": {},
   "source": [
    "### 1.3 Insertion Sort\n",
    "**Algo:** keep inserting element into sorted subarray.\n",
    "<img src = \"https://cdncontribute.geeksforgeeks.org/wp-content/uploads/insertionsort.png\">"
   ]
  },
  {
   "cell_type": "code",
   "execution_count": 4,
   "metadata": {},
   "outputs": [
    {
     "name": "stdout",
     "output_type": "stream",
     "text": [
      "Given array is\n",
      "12 11 13 5 6 \n",
      "Sorted array is: \n",
      "5 6 13 11 12 \n"
     ]
    }
   ],
   "source": [
    "# Implementation of Insertion Sort  \n",
    "def insertionSort(arr): \n",
    "    # Traverse through 1 to len(arr) \n",
    "    for i in range(1, len(arr)): \n",
    "        key = arr[i] \n",
    "        # Move elements of arr[0..i-1], that are greater than key, to one position ahead \n",
    "        # of their current position \n",
    "        j = i-1\n",
    "        while j >= 0 and key < arr[j] : \n",
    "            arr[i] = arr[j] \n",
    "            j -= 1\n",
    "        arr[j + 1] = key \n",
    "        \n",
    "# Driver code to test above \n",
    "arr = [12, 11, 13, 5, 6]  \n",
    "print (\"Given array is\", end=\"\\n\")  \n",
    "printList(arr)\n",
    "insertionSort(arr)\n",
    "print(\"Sorted array is: \", end=\"\\n\") \n",
    "printList(arr)"
   ]
  },
  {
   "cell_type": "markdown",
   "metadata": {},
   "source": [
    "**Time Complexity:** O(n*2)<br>\n",
    "**Auxiliary Space:** O(1)"
   ]
  },
  {
   "cell_type": "markdown",
   "metadata": {},
   "source": [
    "### 1.4 Merge Sort\n",
    "**Algo:** divide input array in two halves, keep dividing until smallest halves and sort them, then merges the two sorted halves.\n",
    "<img src = \"https://www.geeksforgeeks.org/wp-content/uploads/Merge-Sort-Tutorial.png\">"
   ]
  },
  {
   "cell_type": "code",
   "execution_count": 42,
   "metadata": {},
   "outputs": [
    {
     "name": "stdout",
     "output_type": "stream",
     "text": [
      "Given array is\n",
      "12 11 13 5 6 7 \n",
      "Sorted array is: \n",
      "5 6 7 11 12 13 \n"
     ]
    }
   ],
   "source": [
    "# Implementation of MergeSort \n",
    "def mergeSort(arr): \n",
    "    if len(arr) >1: \n",
    "        # Finding the mid of the array \n",
    "        mid = len(arr)//2 \n",
    "        # Dividing the array elements into 2 halves\n",
    "        L = arr[:mid]\n",
    "        R = arr[mid:]\n",
    "  \n",
    "        # Sorting each half \n",
    "        mergeSort(L)\n",
    "        mergeSort(R)\n",
    "  \n",
    "        i = j = k = 0\n",
    "        # Copy data to temp arrays L[] and R[] \n",
    "        while i < len(L) and j < len(R): \n",
    "            if L[i] < R[j]: \n",
    "                arr[k] = L[i] \n",
    "                i+=1\n",
    "            else: \n",
    "                arr[k] = R[j] \n",
    "                j+=1\n",
    "            k+=1\n",
    "          \n",
    "        # Checking if any element was left \n",
    "        while i < len(L): \n",
    "            arr[k] = L[i] \n",
    "            i+=1\n",
    "            k+=1\n",
    "          \n",
    "        while j < len(R): \n",
    "            arr[k] = R[j] \n",
    "            j+=1\n",
    "            k+=1 \n",
    "\n",
    "# driver code to test the above code \n",
    "arr = [12, 11, 13, 5, 6, 7]  \n",
    "print (\"Given array is\", end=\"\\n\")  \n",
    "printList(arr)\n",
    "mergeSort(arr) \n",
    "print(\"Sorted array is: \", end=\"\\n\") \n",
    "printList(arr)"
   ]
  },
  {
   "cell_type": "markdown",
   "metadata": {},
   "source": [
    "**Time Complexity:** O(nLogn)<br>\n",
    "**Auxiliary Space:** O(n)"
   ]
  },
  {
   "cell_type": "markdown",
   "metadata": {},
   "source": [
    "### 1.5 Quick Sort\n",
    "Like Merge Sort, QuickSort is a Divide and Conquer algorithm.<br>\n",
    "**Algo:** It picks an element as pivot x and partitions the given array around the picked pivot.<br>\n",
    "Partition: put x at its correct position in sorted array and put all smaller elements (smaller than x) before x, and put all greater elements (greater than x) after x.\n",
    "<img src = \"http://interactivepython.org/courselib/static/pythonds/_images/partitionA.png\">"
   ]
  },
  {
   "cell_type": "markdown",
   "metadata": {},
   "source": [
    "<img src = \"https://upload.wikimedia.org/wikipedia/commons/9/9c/Quicksort-example.gif\">"
   ]
  },
  {
   "cell_type": "code",
   "execution_count": 43,
   "metadata": {},
   "outputs": [
    {
     "name": "stdout",
     "output_type": "stream",
     "text": [
      "Given array is\n",
      "10 7 8 9 1 5 \n",
      "Sorted array is: \n",
      "1 5 7 8 9 10 \n"
     ]
    }
   ],
   "source": [
    "# Implementation of Quicksort Sort \n",
    "  \n",
    "# This function takes last element as pivot, places \n",
    "# the pivot element at its correct position in sorted \n",
    "# array, and places all smaller (smaller than pivot) \n",
    "# to left of pivot and all greater elements to right \n",
    "# of pivot \n",
    "def partition(arr,low,high): \n",
    "    i = (low-1)         # index of smaller element \n",
    "    pivot = arr[high]     # pivot \n",
    "  \n",
    "    for j in range(low , high): \n",
    "  \n",
    "        # If current element is smaller than or equal to pivot \n",
    "        if arr[j] <= pivot: \n",
    "          \n",
    "            # increment index of smaller element \n",
    "            i = i+1 \n",
    "            arr[i],arr[j] = arr[j],arr[i] \n",
    "  \n",
    "    arr[i+1],arr[high] = arr[high],arr[i+1] \n",
    "    return ( i+1 ) \n",
    "  \n",
    "# The main function that implements QuickSort \n",
    "# arr[] --> Array to be sorted, \n",
    "# low  --> Starting index, \n",
    "# high  --> Ending index \n",
    "  \n",
    "# Function to do Quick sort \n",
    "def quickSort(arr,low,high): \n",
    "    if low < high: \n",
    "  \n",
    "        # pi is partitioning index, arr[p] is now at right place \n",
    "        pi = partition(arr,low,high) \n",
    "  \n",
    "        # Separately sort elements before partition and after partition \n",
    "        quickSort(arr, low, pi-1) \n",
    "        quickSort(arr, pi+1, high) \n",
    "        \n",
    "# Driver code to test above \n",
    "arr = [10, 7, 8, 9, 1, 5] \n",
    "print (\"Given array is\", end=\"\\n\")  \n",
    "printList(arr)\n",
    "n = len(arr) \n",
    "quickSort(arr,0,n-1)  \n",
    "print(\"Sorted array is: \", end=\"\\n\") \n",
    "printList(arr)"
   ]
  },
  {
   "cell_type": "markdown",
   "metadata": {},
   "source": [
    "**Time Complexity:** Worst: O(n*2); Ave & Best: O(nLogn)"
   ]
  },
  {
   "cell_type": "markdown",
   "metadata": {},
   "source": [
    "### 1.6 Heap Sort\n",
    "**Algo:** similar to selection sort, we first find the maximum element and place the maximum element at the end. We repeat the same process for remaining element.\n",
    "<img src = \"https://ds055uzetaobb.cloudfront.net/brioche/uploads/uv9rgMfetq-heapsort-example.gif?width=2400\">"
   ]
  },
  {
   "cell_type": "code",
   "execution_count": 44,
   "metadata": {},
   "outputs": [
    {
     "name": "stdout",
     "output_type": "stream",
     "text": [
      "Given array is\n",
      "12 11 13 5 6 7 \n",
      "Sorted array is: \n",
      "5 6 7 11 12 13 \n"
     ]
    }
   ],
   "source": [
    "# Implementation of heap Sort \n",
    "  \n",
    "# To heapify subtree rooted at index i. \n",
    "# n is size of heap \n",
    "def heapify(arr, n, i): \n",
    "    largest = i # Initialize largest as root \n",
    "    l = 2 * i + 1     # left = 2*i + 1 \n",
    "    r = 2 * i + 2     # right = 2*i + 2 \n",
    "  \n",
    "    # See if left child of root exists and is greater than root \n",
    "    if l < n and arr[i] < arr[l]: \n",
    "        largest = l \n",
    "  \n",
    "    # See if right child of root exists and is greater than root \n",
    "    if r < n and arr[largest] < arr[r]: \n",
    "        largest = r \n",
    "  \n",
    "    # Change root, if needed \n",
    "    if largest != i: \n",
    "        arr[i],arr[largest] = arr[largest],arr[i] # swap \n",
    "  \n",
    "        # Heapify the root. \n",
    "        heapify(arr, n, largest) \n",
    "        \n",
    "# The main function to sort an array of given size \n",
    "def heapSort(arr): \n",
    "    n = len(arr) \n",
    "  \n",
    "    # Build a maxheap. \n",
    "    for i in range(n, -1, -1): \n",
    "        heapify(arr, n, i) \n",
    "  \n",
    "    # One by one extract elements \n",
    "    for i in range(n-1, 0, -1): \n",
    "        arr[i], arr[0] = arr[0], arr[i] # swap \n",
    "        heapify(arr, i, 0) \n",
    "        \n",
    "# Driver code to test above \n",
    "arr = [ 12, 11, 13, 5, 6, 7]  \n",
    "print (\"Given array is\", end=\"\\n\")  \n",
    "printList(arr)\n",
    "heapSort(arr)  \n",
    "print(\"Sorted array is: \", end=\"\\n\") \n",
    "printList(arr)"
   ]
  },
  {
   "cell_type": "markdown",
   "metadata": {},
   "source": [
    "**Time Complexity:** Time complexity of heapify is O(Logn). Time complexity of createAndBuildHeap() is O(n) and overall time complexity of Heap Sort is O(nLogn)."
   ]
  },
  {
   "cell_type": "markdown",
   "metadata": {},
   "source": [
    "### 1.7 Counting Sort\n",
    "**Algo:** It is based on keys between a specific range. It works by counting the number of objects having distinct key values (kind of hashing). Then doing some arithmetic to calculate the position of each object in the output sequence.\n",
    "<pre style=\"background-color:#EBECEE;\">\n",
    "For simplicity, consider the data in the range 0 to 9. \n",
    "Input data: 1, 4, 1, 2, 7, 5, 2\n",
    "  1) Take a count array to store the count of each unique object.\n",
    "  Index:     0  1  2  3  4  5  6  7  8  9\n",
    "  Count:     0  2  2  0  1  1  0  1  0  0\n",
    "\n",
    "  2) Modify the count array such that each element at each index \n",
    "  stores the sum of previous counts. \n",
    "  Index:     0  1  2  3  4  5  6  7  8  9\n",
    "  Count:     0  2  4  4  5  6  6  7  7  7\n",
    "\n",
    "The modified count array indicates the position of each object in the output sequence.\n",
    " \n",
    "  3) Output each object from the input sequence followed by \n",
    "  decreasing its count by 1.\n",
    "  Process the input data: 1, 4, 1, 2, 7, 5, 2. Position of 1 is 2.\n",
    "  Put data 1 at index 2 in output. Decrease count by 1 to place next data 1 at an index 1 smaller than this \n",
    "index.\n",
    "</pre>"
   ]
  },
  {
   "cell_type": "code",
   "execution_count": 45,
   "metadata": {},
   "outputs": [
    {
     "name": "stdout",
     "output_type": "stream",
     "text": [
      "Given array is\n",
      "g e e k s f o r g e e k s \n",
      "Sorted array is: \n",
      "e e e e f g g k k o r s s \n"
     ]
    }
   ],
   "source": [
    "# Implementation of counting sort \n",
    "  \n",
    "# The main function that sort the given string arr[] in  \n",
    "# alphabetical order \n",
    "def countingSort(arr): \n",
    "  \n",
    "    # The output character array that will have sorted arr \n",
    "    output = [0 for i in range(256)] \n",
    "  \n",
    "    # Create a count array to store count of inidividul characters \n",
    "    # and initialize count array as 0 \n",
    "    count = [0 for i in range(256)] \n",
    "  \n",
    "    # For storing the resulting answer since the string is immutable \n",
    "    ans = [\"\" for _ in arr] \n",
    "  \n",
    "    # Store count of each character \n",
    "    for i in arr: \n",
    "        count[ord(i)] += 1\n",
    "  \n",
    "    # Change count[i] so that count[i] now contains actual \n",
    "    # position of this character in output array \n",
    "    for i in range(256): \n",
    "        count[i] += count[i-1] \n",
    "  \n",
    "    # Build the output character array \n",
    "    for i in range(len(arr)): \n",
    "        output[count[ord(arr[i])]-1] = arr[i] \n",
    "        count[ord(arr[i])] -= 1\n",
    "  \n",
    "    # Copy the output array to arr, so that arr now contains sorted characters \n",
    "    for i in range(len(arr)): \n",
    "        ans[i] = output[i] \n",
    "    return ans  \n",
    "\n",
    "# Driver program to test above function \n",
    "arr = \"geeksforgeeks\"\n",
    "print (\"Given array is\", end=\"\\n\")  \n",
    "printList(arr)\n",
    "ans = countingSort(arr)  \n",
    "print(\"Sorted array is: \", end=\"\\n\") \n",
    "printList(ans)"
   ]
  },
  {
   "cell_type": "markdown",
   "metadata": {},
   "source": [
    "**Time Complexity:** O(n+k) where n is the number of elements in input array and k is the range of input.<br>\n",
    "**Auxiliary Space:** O(n+k)"
   ]
  },
  {
   "cell_type": "markdown",
   "metadata": {},
   "source": [
    "### 1.8 Shell Sort\n",
    "**Algo**: a variation of Insertion Sort. In insertion sort, we move elements only one position ahead. When an element has to be moved far ahead, many movements are involved. The idea of shellSort is to **allow exchange of far items**. In shellSort, we make the array h-sorted for a large value of h. We keep reducing the value of h until it becomes 1. An array is said to be h-sorted if all sublists of every h’th element is sorted."
   ]
  },
  {
   "cell_type": "code",
   "execution_count": 46,
   "metadata": {},
   "outputs": [
    {
     "name": "stdout",
     "output_type": "stream",
     "text": [
      "Given array is\n",
      "12 34 54 2 3 \n",
      "Sorted array is: \n",
      "2 3 12 34 54 \n"
     ]
    }
   ],
   "source": [
    "# Implementation of Shell Sort \n",
    "def shellSort(arr): \n",
    "\n",
    "    # Start with a big gap, then reduce the gap \n",
    "    n = len(arr) \n",
    "    gap = n//2\n",
    "\n",
    "    # Do a gapped insertion sort for this gap size. \n",
    "    # The first gap elements a[0..gap-1] are already in gapped \n",
    "    # order keep adding one more element until the entire array \n",
    "    # is gap sorted \n",
    "    while gap > 0: \n",
    "\n",
    "        for i in range(gap,n): \n",
    "\n",
    "            # add a[i] to the elements that have been gap sorted \n",
    "            # save a[i] in temp and make a hole at position i \n",
    "            temp = arr[i] \n",
    "\n",
    "            # shift earlier gap-sorted elements up until the correct \n",
    "            # location for a[i] is found \n",
    "            j = i \n",
    "            while j >= gap and arr[j-gap] >temp: \n",
    "                arr[j] = arr[j-gap] \n",
    "                j -= gap \n",
    "\n",
    "            # put temp (the original a[i]) in its correct location \n",
    "            arr[j] = temp \n",
    "        gap //= 2\n",
    "\n",
    "# Driver code to test above \n",
    "arr = [ 12, 34, 54, 2, 3] \n",
    "print (\"Given array is\", end=\"\\n\")  \n",
    "printList(arr)\n",
    "shellSort(arr)  \n",
    "print(\"Sorted array is: \", end=\"\\n\") \n",
    "printList(arr)"
   ]
  },
  {
   "cell_type": "markdown",
   "metadata": {},
   "source": [
    "**Time Complexity:** O(n2). In the above implementation gap is reduce by half in every iteration. There are many other ways to reduce gap which lead to better time complexity. See [this](https://en.wikipedia.org/wiki/Shellsort#Gap_sequences) for more details."
   ]
  },
  {
   "cell_type": "markdown",
   "metadata": {},
   "source": [
    "### 1.9 Comparison of Sortings:\n",
    "<table border=\"1\">\n",
    "<tbody><tr>\n",
    "<th></th>\n",
    "        <th colspan=\"3\">Time</th>\n",
    "        <th colspan=\"4\"></th>\n",
    "    </tr>\n",
    "<tr>\n",
    "<td>Sort</td>\n",
    "        <td>Average</td>\n",
    "        <td>Best</td>\n",
    "        <td>Worst</td>\n",
    "        <td>Space</td>\n",
    "        <td>Stability</td>\n",
    "        <td>Remarks</td>\n",
    "    </tr>\n",
    "<tr>\n",
    "<td><a href=\"//www.cprogramming.com/tutorial/computersciencetheory/sorting1.html\">Bubble\n",
    "                sort</a></td>\n",
    "        <td>O(n^2)</td>\n",
    "        <td>O(n^2)</td>\n",
    "        <td>O(n^2)</td>\n",
    "        <td>Constant</td>\n",
    "        <td>Stable</td>\n",
    "        <td>Always use a modified bubble sort</td>\n",
    "    </tr>\n",
    "<tr>\n",
    "<td><a href=\"//www.cprogramming.com/tutorial/computersciencetheory/sorting1.html\">Modified\n",
    "                Bubble sort</a></td>\n",
    "        <td>O(n^2)</td>\n",
    "        <td>O(n)</td>\n",
    "        <td>O(n^2)</td>\n",
    "        <td>Constant</td>\n",
    "        <td>Stable</td>\n",
    "        <td>Stops after reaching a sorted array</td>\n",
    "    </tr>\n",
    "<tr>\n",
    "<td><a href=\"//www.cprogramming.com/tutorial/computersciencetheory/sorting2.html\">Selection\n",
    "                Sort</a></td>\n",
    "        <td>O(n^2)</td>\n",
    "        <td>O(n^2)</td>\n",
    "        <td>O(n^2)</td>\n",
    "        <td>Constant</td>\n",
    "        <td>Stable</td>\n",
    "        <td>Even a perfectly sorted input requires scanning the entire array</td>\n",
    "    </tr>\n",
    "<tr>\n",
    "<td><a href=\"//www.cprogramming.com/tutorial/computersciencetheory/sorting2.html\">Insertion\n",
    "                Sort</a></td>\n",
    "        <td>O(n^2)</td>\n",
    "        <td>O(n)</td>\n",
    "        <td>O(n^2)</td>\n",
    "        <td>Constant</td>\n",
    "        <td>Stable</td>\n",
    "        <td>In the best case (already sorted), every insert requires constant time</td>\n",
    "    </tr>\n",
    "<tr>\n",
    "<td><a href=\"//www.cprogramming.com/tutorial/computersciencetheory/heapsort.html\">Heap\n",
    "                Sort</a></td>\n",
    "        <td>O(n*log(n))</td>\n",
    "        <td>O(n*log(n))</td>\n",
    "        <td>O(n*log(n))</td>\n",
    "        <td>Constant</td>\n",
    "        <td>Instable</td>\n",
    "        <td>By using input array as storage for the heap, it is possible to\n",
    "            achieve constant space</td>\n",
    "    </tr>\n",
    "<tr>\n",
    "<td><a href=\"//www.cprogramming.com/tutorial/computersciencetheory/mergesort.html\">Merge\n",
    "                Sort</a></td>\n",
    "        <td>O(n*log(n))</td>\n",
    "        <td>O(n*log(n))</td>\n",
    "        <td>O(n*log(n))</td>\n",
    "        <td>Depends</td>\n",
    "        <td>Stable</td>\n",
    "        <td>On arrays, merge sort requires O(n) space; on linked lists, merge\n",
    "       sort requires constant space</td>\n",
    "    </tr>\n",
    "<tr>\n",
    "<td><a href=\"//www.cprogramming.com/tutorial/computersciencetheory/quicksort.html\">Quicksort</a></td>\n",
    "        <td>O(n*log(n))</td>\n",
    "        <td>O(n*log(n))</td>\n",
    "        <td>O(n^2)</td>\n",
    "        <td>Constant</td>\n",
    "        <td>Stable</td>\n",
    "        <td>Randomly picking a pivot value (or shuffling the array prior to\n",
    "            sorting) can help avoid worst case scenarios such as a perfectly\n",
    "            sorted array.</td>\n",
    "    </tr>\n",
    "</tbody></table>"
   ]
  },
  {
   "cell_type": "markdown",
   "metadata": {},
   "source": [
    "# 2. Searching"
   ]
  },
  {
   "cell_type": "markdown",
   "metadata": {},
   "source": [
    "### 2.1 Linear Search\n",
    "**Algo:** straightforward, brute force.\n",
    "<img src = \"https://www.geeksforgeeks.org/wp-content/uploads/Linear-Search.png\">"
   ]
  },
  {
   "cell_type": "code",
   "execution_count": 47,
   "metadata": {},
   "outputs": [
    {
     "name": "stdout",
     "output_type": "stream",
     "text": [
      "Given array is\n",
      "2 3 4 10 40 \n",
      "Search for: 10\n",
      "Element is present at index 3\n"
     ]
    }
   ],
   "source": [
    "# Implementation of linear search\n",
    "def search(arr, n, x): \n",
    "    for i in range (0, n): \n",
    "        if (arr[i] == x): \n",
    "            return i \n",
    "    return -1\n",
    "  \n",
    "# Driver Code \n",
    "arr = [ 2, 3, 4, 10, 40 ]\n",
    "print (\"Given array is\", end=\"\\n\")  \n",
    "printList(arr)\n",
    "x = 10\n",
    "print (\"Search for:\",x)\n",
    "n = len(arr)\n",
    "result = search(arr, n, x) \n",
    "if(result == -1): \n",
    "    print(\"Element is not present in array\") \n",
    "else: \n",
    "    print(\"Element is present at index\", result)"
   ]
  },
  {
   "cell_type": "markdown",
   "metadata": {},
   "source": [
    "**Time Complexity:** O(n)"
   ]
  },
  {
   "cell_type": "markdown",
   "metadata": {},
   "source": [
    "### 2.2 Binary Search\n",
    "**Algo:** Search a sorted array by repeatedly dividing the search interval in half.\n",
    "<img src = \"https://www.geeksforgeeks.org/wp-content/uploads/Binary-Search.png\">"
   ]
  },
  {
   "cell_type": "code",
   "execution_count": 48,
   "metadata": {},
   "outputs": [
    {
     "name": "stdout",
     "output_type": "stream",
     "text": [
      "Given array is\n",
      "2 3 4 10 40 \n",
      "Search for: 10\n",
      "Element is present at index  3\n"
     ]
    }
   ],
   "source": [
    "# Implementation of recursive binary search. \n",
    "\n",
    "# Returns index of x in arr if present, else -1 \n",
    "def binarySearch (arr, l, r, x): \n",
    "\n",
    "    # Check base case \n",
    "    if r >= l: \n",
    "\n",
    "        mid = l + (r - l)//2\n",
    "\n",
    "        # If element is present at the middle itself \n",
    "        if arr[mid] == x: \n",
    "            return mid \n",
    "\n",
    "        # If element is smaller than mid, then it can only be present in left subarray \n",
    "        elif arr[mid] > x: \n",
    "            return binarySearch(arr, l, mid-1, x) \n",
    "\n",
    "        # Else the element can only be present in right subarray \n",
    "        else: \n",
    "            return binarySearch(arr, mid + 1, r, x) \n",
    "        \n",
    "    else: \n",
    "        # Element is not present in the array \n",
    "        return -1\n",
    "\n",
    "# Test array \n",
    "arr = [ 2, 3, 4, 10, 40 ] \n",
    "x = 10\n",
    "print (\"Given array is\", end=\"\\n\")\n",
    "printList(arr)\n",
    "print (\"Search for:\",x)\n",
    "\n",
    "# Function call \n",
    "result = binarySearch(arr, 0, len(arr)-1, x) \n",
    "\n",
    "if result != -1: \n",
    "    print (\"Element is present at index % d\" % result )\n",
    "else: \n",
    "    print (\"Element is not present in array\")\n"
   ]
  },
  {
   "cell_type": "markdown",
   "metadata": {},
   "source": [
    "**Time Complexity:** O(Logn)"
   ]
  },
  {
   "cell_type": "markdown",
   "metadata": {},
   "source": [
    "### 2.3 Jump Search\n",
    "**Algo:** Jump Search is a searching algorithm for sorted arrays. The basic idea is to check fewer elements (than linear search) by jumping ahead by fixed steps or skipping some elements in place of searching all elements."
   ]
  },
  {
   "cell_type": "code",
   "execution_count": 49,
   "metadata": {},
   "outputs": [
    {
     "name": "stdout",
     "output_type": "stream",
     "text": [
      "Given array is\n",
      "0 1 1 2 3 5 8 13 21 34 55 89 144 233 377 610 \n",
      "Search for: 55\n",
      "Number 55 is at index 10\n"
     ]
    }
   ],
   "source": [
    "# Implementation of Jump Search \n",
    "def jumpSearch( arr , x , n ): \n",
    "\n",
    "    # Finding block size to be jumped \n",
    "    step = math.sqrt(n) \n",
    "\n",
    "    # Finding the block where element is present (if it is present) \n",
    "    prev = 0\n",
    "    while arr[int(min(step, n)-1)] < x: \n",
    "        prev = step \n",
    "        step += math.sqrt(n) \n",
    "        if prev >= n: \n",
    "            return -1\n",
    "\n",
    "    # Doing a linear search for x in \n",
    "    # block beginning with prev. \n",
    "    while arr[int(prev)] < x: \n",
    "        prev += 1\n",
    "\n",
    "        # If we reached next block or end of array, element is not present. \n",
    "        if prev == min(step, n): \n",
    "            return -1\n",
    "\n",
    "    # If element is found \n",
    "    if arr[int(prev)] == x: \n",
    "        return prev \n",
    "\n",
    "    return -1\n",
    "\n",
    "# Driver code to test function \n",
    "arr = [ 0, 1, 1, 2, 3, 5, 8, 13, 21, \n",
    "    34, 55, 89, 144, 233, 377, 610 ] \n",
    "x = 55\n",
    "n = len(arr) \n",
    "print (\"Given array is\", end=\"\\n\")\n",
    "printList(arr)\n",
    "print (\"Search for:\",x)\n",
    "# Find the index of 'x' using Jump Search \n",
    "index = jumpSearch(arr, x, n) \n",
    "\n",
    "# Print the index where 'x' is located \n",
    "print(\"Number\" , x, \"is at index\" ,\"%.0f\"%index) "
   ]
  },
  {
   "cell_type": "markdown",
   "metadata": {},
   "source": [
    "**Time Complexity:** O(√n)"
   ]
  },
  {
   "cell_type": "markdown",
   "metadata": {},
   "source": [
    "**Reference:**<br>\n",
    "1. [GeeksforGeeks: sorting-algorithms](https://www.geeksforgeeks.org/sorting-algorithms/)\n",
    "2. [Brillient: sorting-algorithms](https://brilliant.org/wiki/sorting-algorithms/)\n",
    "3. [Interactive Python: Problem Solving with Algorithms and Data Structures using Python](http://interactivepython.org/courselib/static/pythonds/SortSearch/toctree.html)\n",
    "4. [CProgramming: Sorting Algorithm Comparison](https://www.cprogramming.com/tutorial/computersciencetheory/sortcomp.html)\n",
    "5. [GeeksforGeeks: searching-algorithms](https://www.geeksforgeeks.org/searching-algorithms/)"
   ]
  },
  {
   "cell_type": "markdown",
   "metadata": {},
   "source": [
    "** Solve [Sorting](https://www.hackerrank.com/interview/interview-preparation-kit/sorting/challenges) & [Searching](https://www.hackerrank.com/interview/interview-preparation-kit/search/challenges) puzzles on HackerRank.*"
   ]
  }
 ],
 "metadata": {
  "kernelspec": {
   "display_name": "Python 3",
   "language": "python",
   "name": "python3"
  },
  "language_info": {
   "codemirror_mode": {
    "name": "ipython",
    "version": 3
   },
   "file_extension": ".py",
   "mimetype": "text/x-python",
   "name": "python",
   "nbconvert_exporter": "python",
   "pygments_lexer": "ipython3",
   "version": "3.7.2"
  }
 },
 "nbformat": 4,
 "nbformat_minor": 2
}
